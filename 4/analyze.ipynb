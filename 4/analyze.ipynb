{
 "cells": [
  {
   "cell_type": "markdown",
   "metadata": {},
   "source": [
    "# часть № 2 задания № 4"
   ]
  },
  {
   "cell_type": "code",
   "execution_count": 1,
   "metadata": {},
   "outputs": [],
   "source": [
    "import pandas as pd\n",
    "import numpy as np\n",
    "import sqlite3"
   ]
  },
  {
   "cell_type": "markdown",
   "metadata": {},
   "source": [
    "### Загрузка из базы"
   ]
  },
  {
   "cell_type": "code",
   "execution_count": 2,
   "metadata": {
    "scrolled": false
   },
   "outputs": [
    {
     "data": {
      "text/html": [
       "<div>\n",
       "<style scoped>\n",
       "    .dataframe tbody tr th:only-of-type {\n",
       "        vertical-align: middle;\n",
       "    }\n",
       "\n",
       "    .dataframe tbody tr th {\n",
       "        vertical-align: top;\n",
       "    }\n",
       "\n",
       "    .dataframe thead th {\n",
       "        text-align: right;\n",
       "    }\n",
       "</style>\n",
       "<table border=\"1\" class=\"dataframe\">\n",
       "  <thead>\n",
       "    <tr style=\"text-align: right;\">\n",
       "      <th></th>\n",
       "      <th>ТИК</th>\n",
       "      <th>УИК</th>\n",
       "      <th>Число избирателей, внесенных в список избирателей на момент окончания голосования</th>\n",
       "      <th>Число избирательных бюллетеней, полученных участковой избирательной комиссией</th>\n",
       "      <th>Число избирательных бюллетеней, выданных избирателям в помещении для голосования в день голосования</th>\n",
       "      <th>Число избирательных бюллетеней, выданных избирателям, проголосовавшим вне помещения для голосования</th>\n",
       "      <th>Число погашенных избирательных бюллетеней</th>\n",
       "      <th>Число избирательных бюллетеней, содержащихся в переносных ящиках для голосования</th>\n",
       "      <th>Число избирательных бюллетеней, содержащихся в стационарных ящиках для голосования</th>\n",
       "      <th>Число недействительных избирательных бюллетеней</th>\n",
       "      <th>Число действительных избирательных бюллетеней</th>\n",
       "      <th>Число утраченных избирательных бюллетеней</th>\n",
       "      <th>Число избирательных бюллетеней, не учтенных при получении</th>\n",
       "      <th>Амосов Михаил Иванович</th>\n",
       "      <th>Беглов Александр Дмитриевич</th>\n",
       "      <th>Тихонова Надежда Геннадьевна</th>\n",
       "    </tr>\n",
       "  </thead>\n",
       "  <tbody>\n",
       "    <tr>\n",
       "      <th>0</th>\n",
       "      <td>Территориальная избирательная комиссия №1</td>\n",
       "      <td>УИК №1</td>\n",
       "      <td>1803</td>\n",
       "      <td>1200</td>\n",
       "      <td>587</td>\n",
       "      <td>11</td>\n",
       "      <td>602</td>\n",
       "      <td>11</td>\n",
       "      <td>587</td>\n",
       "      <td>23</td>\n",
       "      <td>575</td>\n",
       "      <td>0</td>\n",
       "      <td>0</td>\n",
       "      <td>110</td>\n",
       "      <td>345</td>\n",
       "      <td>120</td>\n",
       "    </tr>\n",
       "    <tr>\n",
       "      <th>1</th>\n",
       "      <td>Территориальная избирательная комиссия №1</td>\n",
       "      <td>УИК №2</td>\n",
       "      <td>1466</td>\n",
       "      <td>1100</td>\n",
       "      <td>433</td>\n",
       "      <td>14</td>\n",
       "      <td>653</td>\n",
       "      <td>14</td>\n",
       "      <td>430</td>\n",
       "      <td>19</td>\n",
       "      <td>425</td>\n",
       "      <td>0</td>\n",
       "      <td>0</td>\n",
       "      <td>53</td>\n",
       "      <td>326</td>\n",
       "      <td>46</td>\n",
       "    </tr>\n",
       "    <tr>\n",
       "      <th>2</th>\n",
       "      <td>Территориальная избирательная комиссия №1</td>\n",
       "      <td>УИК №3</td>\n",
       "      <td>2092</td>\n",
       "      <td>1600</td>\n",
       "      <td>576</td>\n",
       "      <td>22</td>\n",
       "      <td>1002</td>\n",
       "      <td>22</td>\n",
       "      <td>576</td>\n",
       "      <td>15</td>\n",
       "      <td>583</td>\n",
       "      <td>0</td>\n",
       "      <td>0</td>\n",
       "      <td>155</td>\n",
       "      <td>332</td>\n",
       "      <td>96</td>\n",
       "    </tr>\n",
       "    <tr>\n",
       "      <th>3</th>\n",
       "      <td>Территориальная избирательная комиссия №1</td>\n",
       "      <td>УИК №4</td>\n",
       "      <td>1056</td>\n",
       "      <td>1000</td>\n",
       "      <td>318</td>\n",
       "      <td>4</td>\n",
       "      <td>678</td>\n",
       "      <td>4</td>\n",
       "      <td>318</td>\n",
       "      <td>13</td>\n",
       "      <td>309</td>\n",
       "      <td>0</td>\n",
       "      <td>0</td>\n",
       "      <td>67</td>\n",
       "      <td>171</td>\n",
       "      <td>71</td>\n",
       "    </tr>\n",
       "    <tr>\n",
       "      <th>4</th>\n",
       "      <td>Территориальная избирательная комиссия №1</td>\n",
       "      <td>УИК №5</td>\n",
       "      <td>1827</td>\n",
       "      <td>1400</td>\n",
       "      <td>495</td>\n",
       "      <td>8</td>\n",
       "      <td>897</td>\n",
       "      <td>8</td>\n",
       "      <td>493</td>\n",
       "      <td>16</td>\n",
       "      <td>485</td>\n",
       "      <td>0</td>\n",
       "      <td>0</td>\n",
       "      <td>137</td>\n",
       "      <td>266</td>\n",
       "      <td>82</td>\n",
       "    </tr>\n",
       "  </tbody>\n",
       "</table>\n",
       "</div>"
      ],
      "text/plain": [
       "                                         ТИК     УИК  \\\n",
       "0  Территориальная избирательная комиссия №1  УИК №1   \n",
       "1  Территориальная избирательная комиссия №1  УИК №2   \n",
       "2  Территориальная избирательная комиссия №1  УИК №3   \n",
       "3  Территориальная избирательная комиссия №1  УИК №4   \n",
       "4  Территориальная избирательная комиссия №1  УИК №5   \n",
       "\n",
       "   Число избирателей, внесенных в список избирателей на момент окончания голосования  \\\n",
       "0                                               1803                                   \n",
       "1                                               1466                                   \n",
       "2                                               2092                                   \n",
       "3                                               1056                                   \n",
       "4                                               1827                                   \n",
       "\n",
       "   Число избирательных бюллетеней, полученных участковой избирательной комиссией  \\\n",
       "0                                               1200                               \n",
       "1                                               1100                               \n",
       "2                                               1600                               \n",
       "3                                               1000                               \n",
       "4                                               1400                               \n",
       "\n",
       "   Число избирательных бюллетеней, выданных избирателям в помещении для голосования в день голосования  \\\n",
       "0                                                587                                                     \n",
       "1                                                433                                                     \n",
       "2                                                576                                                     \n",
       "3                                                318                                                     \n",
       "4                                                495                                                     \n",
       "\n",
       "   Число избирательных бюллетеней, выданных избирателям, проголосовавшим вне помещения для голосования  \\\n",
       "0                                                 11                                                     \n",
       "1                                                 14                                                     \n",
       "2                                                 22                                                     \n",
       "3                                                  4                                                     \n",
       "4                                                  8                                                     \n",
       "\n",
       "   Число погашенных избирательных бюллетеней  \\\n",
       "0                                        602   \n",
       "1                                        653   \n",
       "2                                       1002   \n",
       "3                                        678   \n",
       "4                                        897   \n",
       "\n",
       "   Число избирательных бюллетеней, содержащихся в переносных ящиках для голосования  \\\n",
       "0                                                 11                                  \n",
       "1                                                 14                                  \n",
       "2                                                 22                                  \n",
       "3                                                  4                                  \n",
       "4                                                  8                                  \n",
       "\n",
       "   Число избирательных бюллетеней, содержащихся в стационарных ящиках для голосования  \\\n",
       "0                                                587                                    \n",
       "1                                                430                                    \n",
       "2                                                576                                    \n",
       "3                                                318                                    \n",
       "4                                                493                                    \n",
       "\n",
       "   Число недействительных избирательных бюллетеней  \\\n",
       "0                                               23   \n",
       "1                                               19   \n",
       "2                                               15   \n",
       "3                                               13   \n",
       "4                                               16   \n",
       "\n",
       "   Число действительных избирательных бюллетеней  \\\n",
       "0                                            575   \n",
       "1                                            425   \n",
       "2                                            583   \n",
       "3                                            309   \n",
       "4                                            485   \n",
       "\n",
       "   Число утраченных избирательных бюллетеней  \\\n",
       "0                                          0   \n",
       "1                                          0   \n",
       "2                                          0   \n",
       "3                                          0   \n",
       "4                                          0   \n",
       "\n",
       "   Число избирательных бюллетеней, не учтенных при получении  \\\n",
       "0                                                  0           \n",
       "1                                                  0           \n",
       "2                                                  0           \n",
       "3                                                  0           \n",
       "4                                                  0           \n",
       "\n",
       "   Амосов Михаил Иванович  Беглов Александр Дмитриевич  \\\n",
       "0                     110                          345   \n",
       "1                      53                          326   \n",
       "2                     155                          332   \n",
       "3                      67                          171   \n",
       "4                     137                          266   \n",
       "\n",
       "   Тихонова Надежда Геннадьевна  \n",
       "0                           120  \n",
       "1                            46  \n",
       "2                            96  \n",
       "3                            71  \n",
       "4                            82  "
      ]
     },
     "execution_count": 2,
     "metadata": {},
     "output_type": "execute_result"
    }
   ],
   "source": [
    "conn = sqlite3.connect('collection.db')\n",
    "df = pd.read_sql(\"SELECT * from inp\", conn)\n",
    "df.head()"
   ]
  },
  {
   "cell_type": "markdown",
   "metadata": {},
   "source": [
    "### явка (%) по всем ТИК"
   ]
  },
  {
   "cell_type": "code",
   "execution_count": 3,
   "metadata": {},
   "outputs": [
    {
     "data": {
      "text/plain": [
       "ТИК\n",
       "Цифровые избирательные участки                0.747664\n",
       "Территориальная избирательная комиссия №18    0.507381\n",
       "Территориальная избирательная комиссия №15    0.400074\n",
       "Территориальная избирательная комиссия №13    0.396455\n",
       "Территориальная избирательная комиссия №19    0.376655\n",
       "Территориальная избирательная комиссия №8     0.360056\n",
       "Территориальная избирательная комиссия №20    0.337091\n",
       "Территориальная избирательная комиссия №9     0.332639\n",
       "Территориальная избирательная комиссия №22    0.323727\n",
       "Территориальная избирательная комиссия №30    0.319654\n",
       "Территориальная избирательная комиссия №2     0.316594\n",
       "Территориальная избирательная комиссия №1     0.313022\n",
       "Территориальная избирательная комиссия №10    0.304767\n",
       "Территориальная избирательная комиссия №29    0.304189\n",
       "Территориальная избирательная комиссия №4     0.303324\n",
       "Территориальная избирательная комиссия №21    0.290828\n",
       "Территориальная избирательная комиссия №7     0.289317\n",
       "Территориальная избирательная комиссия №25    0.288585\n",
       "Территориальная избирательная комиссия №17    0.282107\n",
       "Территориальная избирательная комиссия №16    0.280991\n",
       "Территориальная избирательная комиссия №23    0.274296\n",
       "Территориальная избирательная комиссия №14    0.273461\n",
       "Территориальная избирательная комиссия №28    0.271524\n",
       "Территориальная избирательная комиссия №11    0.267239\n",
       "Территориальная избирательная комиссия №5     0.266857\n",
       "Территориальная избирательная комиссия №24    0.265333\n",
       "Территориальная избирательная комиссия №3     0.264769\n",
       "Территориальная избирательная комиссия №12    0.262801\n",
       "Территориальная избирательная комиссия №26    0.262288\n",
       "Территориальная избирательная комиссия №6     0.249783\n",
       "Территориальная избирательная комиссия №27    0.247587\n",
       "dtype: float64"
      ]
     },
     "execution_count": 3,
     "metadata": {},
     "output_type": "execute_result"
    }
   ],
   "source": [
    "percent_of_turnout = df.groupby('ТИК').sum()\n",
    "percent_of_turnout = pd.Series((percent_of_turnout['Число избирательных бюллетеней, содержащихся в переносных ящиках '\n",
    "                                                   'для голосования'] + percent_of_turnout['Число избирательных '\n",
    "                                                                                           'бюллетеней, содержащихся '\n",
    "                                                                                           'в стационарных ящиках для '\n",
    "                                                                                           'голосования']) / \n",
    "                               percent_of_turnout['Число избирателей, внесенных в список избирателей на момент '\n",
    "                                                  'окончания голосования']).sort_values(ascending=False) \n",
    "percent_of_turnout"
   ]
  },
  {
   "cell_type": "markdown",
   "metadata": {},
   "source": [
    "### Поиск избирательного участка, где Тихонова Надежда Геннадьевна получила наибольшую поддержку"
   ]
  },
  {
   "cell_type": "code",
   "execution_count": 4,
   "metadata": {},
   "outputs": [
    {
     "data": {
      "text/plain": [
       "'УИК №2283'"
      ]
     },
     "execution_count": 4,
     "metadata": {},
     "output_type": "execute_result"
    }
   ],
   "source": [
    "count_of_turnout = (df['Число избирательных бюллетеней, содержащихся в переносных ящиках для голосования'] +\n",
    "                    df['Число избирательных бюллетеней, содержащихся в стационарных ящиках для голосования'])\n",
    "df['Поддержка Тихоновой Надежды Геннадьевны'] = df.loc[count_of_turnout > 100]['Тихонова Надежда Геннадьевна'] / \\\n",
    "                                                df.loc[count_of_turnout > 100]['Число действительных ' \\\n",
    "                                                                               'избирательных бюллетеней']\n",
    "df.loc[df['Поддержка Тихоновой Надежды Геннадьевны'].idxmax()]['УИК']\n"
   ]
  },
  {
   "cell_type": "markdown",
   "metadata": {},
   "source": [
    "### ТИК, где разница между УИК с наибольшей явкой и наименьшей максимальна"
   ]
  },
  {
   "cell_type": "code",
   "execution_count": 5,
   "metadata": {},
   "outputs": [
    {
     "data": {
      "text/plain": [
       "'Территориальная избирательная комиссия №22'"
      ]
     },
     "execution_count": 5,
     "metadata": {},
     "output_type": "execute_result"
    }
   ],
   "source": [
    "max_ = df.groupby('ТИК').max()\n",
    "min_ = df.groupby('ТИК').min()\n",
    "pd.Series(max_['Число избирательных бюллетеней, содержащихся в переносных ящиках для голосования'] + \n",
    "          max_['Число избирательных бюллетеней, содержащихся в стационарных ящиках для голосования'] - \n",
    "          min_['Число избирательных бюллетеней, содержащихся в переносных ящиках для голосования'] - \n",
    "          min_['Число избирательных бюллетеней, содержащихся в стационарных ящиках для голосования']).idxmax()\n"
   ]
  },
  {
   "cell_type": "markdown",
   "metadata": {},
   "source": [
    "### Дисперсия по явке для каждого ТИК (учитывая УИК)"
   ]
  },
  {
   "cell_type": "code",
   "execution_count": 8,
   "metadata": {},
   "outputs": [
    {
     "data": {
      "text/plain": [
       "ТИК\n",
       "Территориальная избирательная комиссия №1     0.019176\n",
       "Территориальная избирательная комиссия №10    0.007428\n",
       "Территориальная избирательная комиссия №11    0.024049\n",
       "Территориальная избирательная комиссия №12    0.003220\n",
       "Территориальная избирательная комиссия №13    0.039352\n",
       "Территориальная избирательная комиссия №14    0.003146\n",
       "Территориальная избирательная комиссия №15    0.041623\n",
       "Территориальная избирательная комиссия №16    0.011306\n",
       "Территориальная избирательная комиссия №17    0.033070\n",
       "Территориальная избирательная комиссия №18    0.024045\n",
       "Территориальная избирательная комиссия №19    0.020498\n",
       "Территориальная избирательная комиссия №2     0.046172\n",
       "Территориальная избирательная комиссия №20    0.017360\n",
       "Территориальная избирательная комиссия №21    0.031005\n",
       "Территориальная избирательная комиссия №22    0.045146\n",
       "Территориальная избирательная комиссия №23    0.059075\n",
       "Территориальная избирательная комиссия №24    0.027265\n",
       "Территориальная избирательная комиссия №25    0.000844\n",
       "Территориальная избирательная комиссия №26    0.022018\n",
       "Территориальная избирательная комиссия №27    0.020655\n",
       "Территориальная избирательная комиссия №28    0.039163\n",
       "Территориальная избирательная комиссия №29    0.024188\n",
       "Территориальная избирательная комиссия №3     0.007303\n",
       "Территориальная избирательная комиссия №30    0.052221\n",
       "Территориальная избирательная комиссия №4     0.022297\n",
       "Территориальная избирательная комиссия №5     0.013666\n",
       "Территориальная избирательная комиссия №6     0.002043\n",
       "Территориальная избирательная комиссия №7     0.006799\n",
       "Территориальная избирательная комиссия №8     0.026004\n",
       "Территориальная избирательная комиссия №9     0.011464\n",
       "Цифровые избирательные участки                     NaN\n",
       "Name: Явка, dtype: float64"
      ]
     },
     "execution_count": 8,
     "metadata": {},
     "output_type": "execute_result"
    }
   ],
   "source": [
    "df['Явка'] = count_of_turnout/df['Число избирателей, внесенных в список '\n",
    "                                'избирателей на момент окончания голосования']\n",
    "df.groupby('ТИК')['Явка'].var()"
   ]
  },
  {
   "cell_type": "markdown",
   "metadata": {},
   "source": [
    "### Результат (%, округленный до целого) - количество УИК, на которых кандидат получил данный результат"
   ]
  },
  {
   "cell_type": "markdown",
   "metadata": {},
   "source": [
    "Левый столбец - %, правый - количество\n",
    "\n",
    "Используется переменная  *count_of_turnout*, которая не зависит от кандидата, ибо это явка по участкам в целочисленном выражении"
   ]
  },
  {
   "cell_type": "markdown",
   "metadata": {},
   "source": [
    "___Амосов Михаил Иванович___"
   ]
  },
  {
   "cell_type": "code",
   "execution_count": 7,
   "metadata": {
    "scrolled": false
   },
   "outputs": [
    {
     "data": {
      "text/plain": [
       "0.0       1\n",
       "1.0       6\n",
       "2.0       6\n",
       "3.0       2\n",
       "4.0      13\n",
       "5.0      18\n",
       "6.0      25\n",
       "7.0      35\n",
       "8.0      48\n",
       "9.0      68\n",
       "10.0     89\n",
       "11.0    100\n",
       "12.0    117\n",
       "13.0    130\n",
       "14.0    131\n",
       "15.0    160\n",
       "16.0    153\n",
       "17.0    152\n",
       "18.0    126\n",
       "19.0    102\n",
       "20.0     89\n",
       "21.0     82\n",
       "22.0     77\n",
       "23.0     44\n",
       "24.0     56\n",
       "25.0     40\n",
       "26.0     45\n",
       "27.0     26\n",
       "28.0     26\n",
       "29.0     17\n",
       "30.0     15\n",
       "31.0      5\n",
       "32.0      6\n",
       "33.0      4\n",
       "34.0      1\n",
       "35.0      3\n",
       "36.0      2\n",
       "42.0      1\n",
       "48.0      1\n",
       "dtype: int64"
      ]
     },
     "execution_count": 7,
     "metadata": {},
     "output_type": "execute_result"
    }
   ],
   "source": [
    "(df['Амосов Михаил Иванович']*100/count_of_turnout).round().value_counts().sort_index()"
   ]
  },
  {
   "cell_type": "markdown",
   "metadata": {},
   "source": [
    "___Беглов Александр Дмитриевич___"
   ]
  },
  {
   "cell_type": "code",
   "execution_count": 8,
   "metadata": {
    "scrolled": false
   },
   "outputs": [
    {
     "data": {
      "text/plain": [
       "20.0      1\n",
       "30.0      1\n",
       "32.0      1\n",
       "33.0      2\n",
       "38.0      3\n",
       "39.0      3\n",
       "40.0      3\n",
       "41.0      5\n",
       "42.0      3\n",
       "43.0      3\n",
       "44.0      9\n",
       "45.0      8\n",
       "46.0     10\n",
       "47.0     21\n",
       "48.0     14\n",
       "49.0     24\n",
       "50.0     27\n",
       "51.0     37\n",
       "52.0     37\n",
       "53.0     44\n",
       "54.0     36\n",
       "55.0     52\n",
       "56.0     62\n",
       "57.0     68\n",
       "58.0     77\n",
       "59.0     79\n",
       "60.0    122\n",
       "61.0     93\n",
       "62.0     92\n",
       "63.0     97\n",
       "       ... \n",
       "68.0     77\n",
       "69.0     62\n",
       "70.0     72\n",
       "71.0     49\n",
       "72.0     53\n",
       "73.0     40\n",
       "74.0     37\n",
       "75.0     38\n",
       "76.0     28\n",
       "77.0     23\n",
       "78.0     19\n",
       "79.0     20\n",
       "80.0     20\n",
       "81.0     25\n",
       "82.0     13\n",
       "83.0     14\n",
       "84.0     15\n",
       "85.0      9\n",
       "86.0      7\n",
       "87.0      7\n",
       "88.0      5\n",
       "89.0      5\n",
       "90.0      6\n",
       "91.0      7\n",
       "92.0      2\n",
       "93.0      1\n",
       "94.0      3\n",
       "95.0      2\n",
       "96.0      1\n",
       "98.0      2\n",
       "Length: 64, dtype: int64"
      ]
     },
     "execution_count": 8,
     "metadata": {},
     "output_type": "execute_result"
    }
   ],
   "source": [
    "(df['Беглов Александр Дмитриевич']*100/count_of_turnout).round().value_counts().sort_index()"
   ]
  },
  {
   "cell_type": "markdown",
   "metadata": {},
   "source": [
    "___Тихонова Надежда Геннадьевна___"
   ]
  },
  {
   "cell_type": "code",
   "execution_count": 9,
   "metadata": {
    "scrolled": false
   },
   "outputs": [
    {
     "data": {
      "text/plain": [
       "0.0       2\n",
       "1.0       4\n",
       "2.0       5\n",
       "3.0      11\n",
       "4.0       9\n",
       "5.0      15\n",
       "6.0      21\n",
       "7.0      22\n",
       "8.0      35\n",
       "9.0      45\n",
       "10.0     47\n",
       "11.0     52\n",
       "12.0     67\n",
       "13.0     78\n",
       "14.0    117\n",
       "15.0    145\n",
       "16.0    217\n",
       "17.0    188\n",
       "18.0    186\n",
       "19.0    203\n",
       "20.0    151\n",
       "21.0    117\n",
       "22.0     97\n",
       "23.0     58\n",
       "24.0     28\n",
       "25.0     21\n",
       "26.0     21\n",
       "27.0      9\n",
       "28.0      9\n",
       "29.0      8\n",
       "30.0      4\n",
       "31.0      8\n",
       "32.0      3\n",
       "33.0      5\n",
       "34.0      1\n",
       "35.0      5\n",
       "36.0      2\n",
       "37.0      1\n",
       "38.0      1\n",
       "40.0      1\n",
       "41.0      1\n",
       "44.0      1\n",
       "48.0      1\n",
       "dtype: int64"
      ]
     },
     "execution_count": 9,
     "metadata": {},
     "output_type": "execute_result"
    }
   ],
   "source": [
    "(df['Тихонова Надежда Геннадьевна']*100/count_of_turnout).round().value_counts().sort_index()"
   ]
  },
  {
   "cell_type": "markdown",
   "metadata": {},
   "source": [
    "### Отношение - явка на УИК  →  результат кандидата."
   ]
  },
  {
   "cell_type": "markdown",
   "metadata": {},
   "source": [
    "Произведём подготовительные операции"
   ]
  },
  {
   "cell_type": "code",
   "execution_count": 41,
   "metadata": {},
   "outputs": [],
   "source": [
    "import matplotlib.pyplot as plt\n",
    "df['Явка'] = count_of_turnout/df['Число избирателей, внесенных в список '\n",
    "                                'избирателей на момент окончания голосования']"
   ]
  },
  {
   "cell_type": "markdown",
   "metadata": {},
   "source": [
    "___Амосов Михаил Иванович___"
   ]
  },
  {
   "cell_type": "code",
   "execution_count": 46,
   "metadata": {},
   "outputs": [
    {
     "data": {
      "text/plain": [
       "[<matplotlib.lines.Line2D at 0x11e001588>]"
      ]
     },
     "execution_count": 46,
     "metadata": {},
     "output_type": "execute_result"
    },
    {
     "data": {
      "image/png": "[encoded data removed]",
      "text/plain": [
       "<Figure size 432x288 with 1 Axes>"
      ]
     },
     "metadata": {
      "needs_background": "light"
     },
     "output_type": "display_data"
    }
   ],
   "source": [
    "plt.scatter(df['Явка'], \n",
    "           (df['Амосов Михаил Иванович']/count_of_turnout))\n",
    "plt.plot(np.unique(df['Явка']), np.poly1d(np.polyfit(df['Явка'], df['Амосов Михаил Иванович']/count_of_turnout, 2))(np.unique(df['Явка'])),color = 'black')"
   ]
  },
  {
   "cell_type": "code",
   "execution_count": 48,
   "metadata": {},
   "outputs": [
    {
     "data": {
      "text/plain": [
       "[<matplotlib.lines.Line2D at 0x11c06b518>]"
      ]
     },
     "execution_count": 48,
     "metadata": {},
     "output_type": "execute_result"
    },
    {
     "data": {
      "image/png": "[encoded data removed]",
      "text/plain": [
       "<Figure size 432x288 with 1 Axes>"
      ]
     },
     "metadata": {
      "needs_background": "light"
     },
     "output_type": "display_data"
    }
   ],
   "source": [
    "plt.scatter(df['Явка'], \n",
    "           (df['Беглов Александр Дмитриевич']/count_of_turnout))\n",
    "plt.plot(np.unique(df['Явка']), np.poly1d(np.polyfit(df['Явка'], df['Беглов Александр Дмитриевич']/count_of_turnout, 2))(np.unique(df['Явка'])),color = 'black')"
   ]
  },
  {
   "cell_type": "code",
   "execution_count": 49,
   "metadata": {},
   "outputs": [
    {
     "data": {
      "text/plain": [
       "[<matplotlib.lines.Line2D at 0x11c03fe10>]"
      ]
     },
     "execution_count": 49,
     "metadata": {},
     "output_type": "execute_result"
    },
    {
     "data": {
      "image/png": "[encoded data removed]",
      "text/plain": [
       "<Figure size 432x288 with 1 Axes>"
      ]
     },
     "metadata": {
      "needs_background": "light"
     },
     "output_type": "display_data"
    }
   ],
   "source": [
    "plt.scatter(df['Явка'], \n",
    "           (df['Тихонова Надежда Геннадьевна']/count_of_turnout))\n",
    "plt.plot(np.unique(df['Явка']), np.poly1d(np.polyfit(df['Явка'], df['Тихонова Надежда Геннадьевна']/count_of_turnout, 2))(np.unique(df['Явка'])),color = 'black')"
   ]
  },
  {
   "cell_type": "markdown",
   "metadata": {},
   "source": [
    "Если же их изобразить на одном графике, это будет выглядеть так:"
   ]
  },
  {
   "cell_type": "code",
   "execution_count": 51,
   "metadata": {},
   "outputs": [
    {
     "data": {
      "text/plain": [
       "<matplotlib.legend.Legend at 0x11d4da3c8>"
      ]
     },
     "execution_count": 51,
     "metadata": {},
     "output_type": "execute_result"
    },
    {
     "data": {
      "image/png": "[encoded data removed]",
      "text/plain": [
       "<Figure size 432x288 with 1 Axes>"
      ]
     },
     "metadata": {
      "needs_background": "light"
     },
     "output_type": "display_data"
    }
   ],
   "source": [
    "plt.plot(np.unique(df['Явка']), np.poly1d(np.polyfit(df['Явка'], df['Амосов Михаил Иванович']/count_of_turnout, 2))(np.unique(df['Явка'])), color = 'r', label='Амосов Михаил Иванович')\n",
    "plt.plot(np.unique(df['Явка']), np.poly1d(np.polyfit(df['Явка'], df['Беглов Александр Дмитриевич']/count_of_turnout, 2))(np.unique(df['Явка'])), color = 'g', label='Беглов Александр Дмитриевич')\n",
    "plt.plot(np.unique(df['Явка']), np.poly1d(np.polyfit(df['Явка'], df['Тихонова Надежда Геннадьевна']/count_of_turnout, 2))(np.unique(df['Явка'])), color = 'b', label='Тихонова Надежда Геннадьевна')\n",
    "plt.legend()"
   ]
  },
  {
   "cell_type": "code",
   "execution_count": null,
   "metadata": {},
   "outputs": [],
   "source": []
  }
 ],
 "metadata": {
  "kernelspec": {
   "display_name": "Python 3",
   "language": "python",
   "name": "python3"
  },
  "language_info": {
   "codemirror_mode": {
    "name": "ipython",
    "version": 3
   },
   "file_extension": ".py",
   "mimetype": "text/x-python",
   "name": "python",
   "nbconvert_exporter": "python",
   "pygments_lexer": "ipython3",
   "version": "3.7.1"
  }
 },
 "nbformat": 4,
 "nbformat_minor": 2
}
