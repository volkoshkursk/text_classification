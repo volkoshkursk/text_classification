{
 "cells": [
  {
   "cell_type": "markdown",
   "metadata": {},
   "source": [
    "# Задание 1"
   ]
  },
  {
   "cell_type": "code",
   "execution_count": null,
   "metadata": {},
   "outputs": [],
   "source": []
  },
  {
   "cell_type": "markdown",
   "metadata": {},
   "source": [
    "# Задание 2"
   ]
  },
  {
   "cell_type": "code",
   "execution_count": 1,
   "metadata": {},
   "outputs": [],
   "source": [
    "def check_inv(a, b):\n",
    "    if len(a) < len(b):\n",
    "        return False\n",
    "    else:\n",
    "        b = sorted(list(b)) \n",
    "        for i in range(len(a)):\n",
    "            if i + len(b) > len(a):\n",
    "                return False\n",
    "            else:\n",
    "                cond = b == sorted(list(a[i:i+len(b)])) \n",
    "                if cond == True:\n",
    "                    return True\n",
    "        return False"
   ]
  },
  {
   "cell_type": "code",
   "execution_count": 2,
   "metadata": {
    "scrolled": false
   },
   "outputs": [
    {
     "data": {
      "text/plain": [
       "True"
      ]
     },
     "execution_count": 2,
     "metadata": {},
     "output_type": "execute_result"
    }
   ],
   "source": [
    "a = 'abcrotm'\n",
    "\n",
    "b = 'tro'\n",
    "check_inv(a, b)"
   ]
  },
  {
   "cell_type": "markdown",
   "metadata": {},
   "source": [
    "Функция sorted имеет сложность O(n log(n)), а значит сложность алгоритма, если m - размер a и n - размер b:\n",
    "O(O(O(n log(n)) + (n + m - 1) * O(n log(n)))) = O(O(n log(n)) + O((n + m - 1) * n log(n))) = O((n + m - 1) * n log(n)) = O((n + m) * n log(n))\n",
    "\n",
    "___Ответ:___ O((n + m) * n log(n))"
   ]
  },
  {
   "cell_type": "markdown",
   "metadata": {},
   "source": [
    "# Задание 3"
   ]
  },
  {
   "cell_type": "code",
   "execution_count": 3,
   "metadata": {},
   "outputs": [],
   "source": [
    "class Tree:\n",
    "    def __init__(self, value=None, left=None, right=None):\n",
    "        self.left = left\n",
    "        self.right = right\n",
    "        self.value = value\n",
    "                \n",
    "    def __iter__(self):\n",
    "        if self.left == None and self.right == None:\n",
    "            yield self.value\n",
    "        if self.left != None:\n",
    "            yield from self.left\n",
    "#             it = iter(self.left)\n",
    "#             while True:\n",
    "#                 try:\n",
    "#                     yield next(it)\n",
    "#                 except StopIteration as e:\n",
    "#                     break\n",
    "\n",
    "        if self.right != None:\n",
    "            yield from self.right\n",
    "#             it = iter(self.right)\n",
    "#             while True:\n",
    "#                 try:\n",
    "#                     yield next(it)\n",
    "#                 except StopIteration as e:\n",
    "#                     break\n",
    "    def __str__(self):\n",
    "        return str(self.value) + '\\n' +  str(self.left) + str(self.right) + '\\n'\n",
    "    \n",
    "    def __repr__(self):\n",
    "        return f'Tree({self.value}, {repr(self.left)}, {repr(self.right)})'"
   ]
  },
  {
   "cell_type": "code",
   "execution_count": 4,
   "metadata": {},
   "outputs": [
    {
     "data": {
      "text/plain": [
       "[3, 4, 2]"
      ]
     },
     "execution_count": 4,
     "metadata": {},
     "output_type": "execute_result"
    }
   ],
   "source": [
    "tree = Tree(0, Tree(1, Tree(3), Tree(4)), Tree(2))\n",
    "\n",
    "list(tree)"
   ]
  },
  {
   "cell_type": "markdown",
   "metadata": {},
   "source": [
    "# Задание 4"
   ]
  },
  {
   "cell_type": "code",
   "execution_count": 5,
   "metadata": {},
   "outputs": [
    {
     "data": {
      "text/plain": [
       "'4'"
      ]
     },
     "execution_count": 5,
     "metadata": {},
     "output_type": "execute_result"
    }
   ],
   "source": [
    "import re\n",
    "def multiply(expr):\n",
    "    result = list(expr)\n",
    "    numbers = {str(i) for i in range(10)}\n",
    "    for i in range(len(expr)):\n",
    "        if expr[i] == '*':\n",
    "            j_left = i - 1\n",
    "            left = ''\n",
    "            while expr[j_left] in numbers:\n",
    "                left = expr[j_left] + left\n",
    "                j_left -= 1\n",
    "                if j_left < 0:\n",
    "                    break\n",
    "            j_right = i + 1\n",
    "            j_left += 1\n",
    "            right = ''\n",
    "            while expr[j_right] in numbers:\n",
    "                right = right + expr[j_right]\n",
    "                j_right += 1\n",
    "                if j_right == len(expr):\n",
    "                    break\n",
    "            t_result = int(left) * int(right)\n",
    "            for i in range(len(str(t_result))):\n",
    "                result[j_left + i] = str(t_result)[i]\n",
    "            for i in range(j_left + len(str(t_result)), j_right):\n",
    "                result[i] = ''\n",
    "    return \"\".join(result)\n",
    "\n",
    "\n",
    "def division(expr):\n",
    "    result = list(expr)\n",
    "    numbers = {str(i) for i in range(10)}\n",
    "    for i in range(len(expr)):\n",
    "        if expr[i] == '/':\n",
    "            j_left = i - 1\n",
    "            left = ''\n",
    "            while expr[j_left] in numbers:\n",
    "                left = expr[j_left] + left\n",
    "                j_left -= 1\n",
    "                if j_left < 0:\n",
    "                    break\n",
    "            j_right = i + 1\n",
    "            j_left += 1\n",
    "            right = ''\n",
    "            while expr[j_right] in numbers:\n",
    "                right = right + expr[j_right]\n",
    "                j_right += 1\n",
    "                if j_right == len(expr):\n",
    "                    break\n",
    "            t_result = int(int(left) / int(right))\n",
    "            for i in range(len(str(t_result))):\n",
    "                result[j_left + i] = str(t_result)[i]\n",
    "            for i in range(j_left + len(str(t_result)), j_right):\n",
    "                result[i] = ''\n",
    "    return \"\".join(result)\n",
    "\n",
    "\n",
    "def summary(expr):\n",
    "    result = list(expr)\n",
    "    numbers = {str(i) for i in range(10)}\n",
    "    for i in range(len(expr)):\n",
    "        if expr[i] == '+':\n",
    "            j_left = i - 1\n",
    "            left = ''\n",
    "            while expr[j_left] in numbers:\n",
    "                left = expr[j_left] + left\n",
    "                j_left -= 1\n",
    "                if j_left < 0:\n",
    "                    break\n",
    "            j_right = i + 1\n",
    "            j_left += 1\n",
    "            right = ''\n",
    "            while expr[j_right] in numbers:\n",
    "                right = right + expr[j_right]\n",
    "                j_right += 1\n",
    "                if j_right == len(expr):\n",
    "                    break\n",
    "            t_result = int(left) + int(right)\n",
    "            for i in range(len(str(t_result))):\n",
    "                result[j_left + i] = str(t_result)[i]\n",
    "            for i in range(j_left + len(str(t_result)), j_right):\n",
    "                result[i] = ''\n",
    "    return \"\".join(result)\n",
    "\n",
    "\n",
    "def difference(expr):\n",
    "    result = list(expr)\n",
    "    numbers = {str(i) for i in range(10)}\n",
    "    for i in range(len(expr)):\n",
    "        if expr[i] == '-':\n",
    "            j_left = i - 1\n",
    "            left = ''\n",
    "            while expr[j_left] in numbers:\n",
    "                left = expr[j_left] + left\n",
    "                j_left -= 1\n",
    "                if j_left < 0:\n",
    "                    break\n",
    "            j_right = i + 1\n",
    "            j_left += 1\n",
    "            right = ''\n",
    "            while expr[j_right] in numbers:\n",
    "                right = right + expr[j_right]\n",
    "                j_right += 1\n",
    "                if j_right == len(expr):\n",
    "                    break\n",
    "            t_result = int(left) - int(right)\n",
    "            for i in range(len(str(t_result))):\n",
    "                result[j_left + i] = str(t_result)[i]\n",
    "            for i in range(j_left + len(str(t_result)), j_right):\n",
    "                result[i] = ''\n",
    "    return \"\".join(result)\n",
    "\n",
    "        \n",
    "def calc(expr):\n",
    "    expr = re.sub(r'[^-0-9()*+/]', '', expr)\n",
    "    result = re.findall(r'[(][-0-9*+/]+', expr)\n",
    "    t_result = []\n",
    "    for i in result:\n",
    "        t_result.append(summary(difference(division(multiply(i[1:])))))\n",
    "    for i in range(len(result)):\n",
    "        while expr.find((result[i]+')')) > 0:\n",
    "            j = expr.find((result[i]+')'))\n",
    "            expr = expr[:j] + t_result[i] + expr[j+len(result[i]+')'):]\n",
    "    return summary(difference(division(multiply(expr))))\n",
    "calc('2 * (15 - 3 * 4)khfcyute``åßåß - 2 lk')"
   ]
  }
 ],
 "metadata": {
  "kernelspec": {
   "display_name": "Python 3",
   "language": "python",
   "name": "python3"
  },
  "language_info": {
   "codemirror_mode": {
    "name": "ipython",
    "version": 3
   },
   "file_extension": ".py",
   "mimetype": "text/x-python",
   "name": "python",
   "nbconvert_exporter": "python",
   "pygments_lexer": "ipython3",
   "version": "3.7.1"
  }
 },
 "nbformat": 4,
 "nbformat_minor": 2
}
